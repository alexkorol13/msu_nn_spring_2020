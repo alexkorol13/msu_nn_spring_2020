{
 "cells": [
  {
   "cell_type": "markdown",
   "metadata": {},
   "source": [
    "## Семинар 1 \"Полносвязные нейронные сети\""
   ]
  },
  {
   "cell_type": "markdown",
   "metadata": {},
   "source": [
    "ФИО: Короленок Александр Сергеевич"
   ]
  },
  {
   "cell_type": "markdown",
   "metadata": {},
   "source": [
    "В этом задании вам предстоит реализовать проход \"вперед\" для полносвязной нейронную сети. В дальнейшем мы реализуем процедуру обучения и научим сеть распознавать рукописные цифры.\n",
    "\n",
    "На первой лекции мы познакомились с тем, что такое нейронные сети и изучили три слоя — линейный, сигмоида и SoftMax. Из этих слоев можно составлять глубокие архитектуры и обучать их при помощи градиентного спуска. Чтобы конструировать сложные архитектуры, можно реализовать каждый тип слоя как отдельный \"кирпичик\" и затем собирать полную архитектуру как конструктор. Это мы и попробуем сделать на первом и втором семинарах."
   ]
  },
  {
   "cell_type": "markdown",
   "metadata": {},
   "source": [
    "Каждый тип слоя мы будем реализовывать при помощи класса, который будет поддерживать три функции: forward, которая будет применять функцию, реализуемую слоем, к входной матрице и backward, которая будет вычислять градиенты и step, которая будет обновлять веса. Чтобы не применять функцию к каждому объекту в отдельности, мы будем подавать на вход слою матрицу размера (N, d), где N — количество объектов, а d — размерность каждого объекта."
   ]
  },
  {
   "cell_type": "markdown",
   "metadata": {},
   "source": [
    "<img src=backprop.pdf width=400/>"
   ]
  },
  {
   "cell_type": "markdown",
   "metadata": {},
   "source": [
    "Функция forward будет вычислять по $x$ значение $y$, backward — по $\\frac{\\partial L}{\\partial y}$ вычислять $\\frac{\\partial L}{\\partial x}$ и обновлять внутри себя $\\frac{\\partial L}{\\partial w}$.\n",
    "\n",
    "Важным требованием к реализации является векторизация всех слоев: все операции должны быть сведены к матричным, не должно быть циклов. Это значительно уменьшает временные затраты."
   ]
  },
  {
   "cell_type": "code",
   "execution_count": 48,
   "metadata": {},
   "outputs": [],
   "source": [
    "import matplotlib.pyplot as plt\n",
    "import numpy as np\n",
    "%matplotlib inline"
   ]
  },
  {
   "cell_type": "markdown",
   "metadata": {},
   "source": [
    "### Часть 1: Линейный слой\n"
   ]
  },
  {
   "cell_type": "markdown",
   "metadata": {},
   "source": [
    "Приведем пример вычисления градиентов для линейного слоя: $y = Wx$, $x \\in \\mathbb{R}^{K \\times n}$, $y \\in \\mathbb{R}^{K \\times n}$, $W \\in \\mathbb{R}^{n \\times m}$, где $K$ — число объектов.\n",
    "\n",
    "Рассмотрим $L$ как функцию от выходов нейронной сети: $L = L(y_{11}, y_{12}, \\dots)$\n",
    "\n",
    "$$y_{kt} = (Wx)_{kt} = \\sum_{z=1}^{n} x_{kz}W_{zt}$$\n",
    "\n",
    "$$\\frac{\\partial L}{\\partial x_{ij}} = \\sum_{kt} \\frac{\\partial L}{\\partial y_{kt}}\\frac{\\partial y_{kt}}{\\partial x_{ij}} = \\sum_{kt} \\frac{\\partial L}{\\partial y_{kt}}\\frac{\\partial \\sum_z x_{kz}w_{zt}}{\\partial x_{ij}}= \\sum_{t} \\frac{\\partial L}{\\partial y_{it}}\\frac{\\partial w_{jt}}{\\partial x_{ij}}$$\n",
    "\n",
    "$$\\frac{\\partial{L}}{\\partial x} = \\frac{\\partial{L}}{\\partial y}W^T$$"
   ]
  },
  {
   "cell_type": "code",
   "execution_count": 49,
   "metadata": {},
   "outputs": [],
   "source": [
    "class Linear:\n",
    "    def __init__(self, input_size, output_size):\n",
    "        '''\n",
    "        Creates weights and biases for linear layer.\n",
    "        Dimention of inputs is *input_size*, of output: *output_size*.\n",
    "        '''\n",
    "        self.W = np.random.randn(input_size, output_size) * 0.1\n",
    "        self.b = np.zeros((1, output_size))\n",
    "        self.n_samples = 1\n",
    "        \n",
    "    def forward(self, X):\n",
    "        '''\n",
    "        Passes objects through this layer.\n",
    "        X is np.array of size (N, input_size).\n",
    "        Returns output of size (N, output_size).\n",
    "        Hint: You may need to store X for backward pass\n",
    "        '''\n",
    "        self.X = X\n",
    "        if self.n_samples != X.shape[0]:\n",
    "            self.n_samples = X.shape[0] \n",
    "            self.b = np.zeros((X.shape[0], self.b.shape[1]))\n",
    "        self.Y = X @ self.W + self.b\n",
    "\n",
    "        return self.Y\n",
    "    \n",
    "    def backward(self, dLdy):\n",
    "        '''\n",
    "        1. Compute dLdw and dLdx.\n",
    "        2. Store dLdw for step() call\n",
    "        3. Return dLdx\n",
    "        '''\n",
    "        self.dLdW = self.X.T.dot(dLdy)\n",
    "        self.dLdb = np.copy(dLdy)\n",
    "        # y = x * W + b\n",
    "        # dL/db = dL/dy * dy/db\n",
    "        # dL/dx = dL/dy * dy/dx\n",
    "        dLdx = dLdy @ self.W.T\n",
    "        return dLdx\n",
    "    \n",
    "    def step(self, learning_rate):\n",
    "        '''\n",
    "        1. Apply gradient dLdw to network:\n",
    "        w <- w - l*dLdw\n",
    "        '''\n",
    "        \n",
    "        self.W -= learning_rate * self.dLdW\n",
    "        self.b -= learning_rate * self.dLdb"
   ]
  },
  {
   "cell_type": "markdown",
   "metadata": {},
   "source": [
    "### Часть 2: Численный градиент"
   ]
  },
  {
   "cell_type": "markdown",
   "metadata": {},
   "source": [
    "Релизуйте функцию проверки численного градиента. Для этого для каждой переменной, по которой считается градиент, надо вычислить численный градиент: $f'(x) \\approx \\frac{f(x+\\epsilon)-f(x-\\epsilon)}{2\\epsilon}$. Функция должна возвращать максимальное абсолютное отклонение аналитического градиента от численного. В качестве $\\epsilon$ рекомендуется взять $10^{-6}$. При правильной реализации максимальное отличие будет иметь порядок $10^{-8}-10^{-6}$."
   ]
  },
  {
   "cell_type": "code",
   "execution_count": 50,
   "metadata": {},
   "outputs": [],
   "source": [
    "def check_gradient(func, X, gradient):\n",
    "    '''\n",
    "    Computes numerical gradient and compares it with analytcal.\n",
    "    func: callable, function of which gradient we are interested. Example call: func(X)\n",
    "    X: np.array of size (n x m)\n",
    "    gradient: np.array of size (n x m)\n",
    "    Returns: maximum absolute diviation between numerical gradient and analytical.\n",
    "    '''\n",
    "    eps = 10**(-7)\n",
    "\n",
    "    ngrad_full = np.zeros_like(X)\n",
    "\n",
    "    for i in range(X.shape[0]):\n",
    "        for j in range(X.shape[1]):\n",
    "            X[i, j] += eps\n",
    "\n",
    "            f_right = func(X)\n",
    "\n",
    "            X[i, j] -= 2 * eps\n",
    "\n",
    "            f_left = func(X)\n",
    "\n",
    "            X[i, j] += eps\n",
    "    \n",
    "            ngrad = (f_right - f_left) / (2 * eps)\n",
    "\n",
    "            ngrad_full[i,j] = ngrad\n",
    "\n",
    "    return np.max(np.abs(ngrad_full - gradient))"
   ]
  },
  {
   "cell_type": "code",
   "execution_count": 51,
   "metadata": {},
   "outputs": [
    {
     "data": {
      "text/plain": [
       "4.3213594702606883e-08"
      ]
     },
     "execution_count": 51,
     "metadata": {},
     "output_type": "execute_result"
    }
   ],
   "source": [
    "np.random.seed(777)\n",
    "x = np.random.rand(10, 20)\n",
    "func = lambda x: (x**2).sum()\n",
    "gradient = 2*x\n",
    "check_gradient(func, x, gradient)"
   ]
  },
  {
   "cell_type": "code",
   "execution_count": 52,
   "metadata": {},
   "outputs": [
    {
     "data": {
      "text/plain": [
       "3.6394304236964103e-11"
      ]
     },
     "execution_count": 52,
     "metadata": {},
     "output_type": "execute_result"
    }
   ],
   "source": [
    "np.random.seed(898)\n",
    "shape = (1, 3)\n",
    "X = np.random.randn(shape[0], shape[1])\n",
    "\n",
    "linear = Linear(3, 1)\n",
    "\n",
    "def func(X):\n",
    "    results = linear.forward(X)\n",
    "    return results.flatten()[0]\n",
    "\n",
    "results = linear.forward(X)\n",
    "gradients = linear.backward(np.ones_like(results))\n",
    "\n",
    "check_gradient(func, X, gradients)"
   ]
  },
  {
   "cell_type": "markdown",
   "metadata": {},
   "source": [
    "Протестируйте линейный слой при помощи реализованной функции check_gradient: $\\frac{\\partial L}{\\partial x}$ и $\\frac{\\partial L}{\\partial w}$."
   ]
  },
  {
   "cell_type": "code",
   "execution_count": 53,
   "metadata": {},
   "outputs": [
    {
     "name": "stdout",
     "output_type": "stream",
     "text": [
      "[[-0.08228249]\n",
      " [-0.12910336]]\n",
      "[[-0.16456497]\n",
      " [-2.25820673]]\n",
      "[[-2.25820673]\n",
      " [-2.4227717 ]]\n"
     ]
    },
    {
     "data": {
      "text/plain": [
       "1.57504276288023e-09"
      ]
     },
     "execution_count": 53,
     "metadata": {},
     "output_type": "execute_result"
    }
   ],
   "source": [
    "np.random.seed(777)\n",
    "\n",
    "X = np.array([[0, 1], [1, 1]])\n",
    "Y = np.array([[0], [1]])\n",
    "\n",
    "l = Linear(2, 1)\n",
    "\n",
    "def loss(W):\n",
    "    l.W = W\n",
    "    \n",
    "    res = l.forward(X)\n",
    "    \n",
    "    return np.sum((res - Y)**2)\n",
    "\n",
    "res = l.forward(X)\n",
    "print(res)\n",
    "dLdy = 2*(res - Y)\n",
    "print(dLdy)\n",
    "\n",
    "l.backward(dLdy)\n",
    "\n",
    "print(l.dLdW)\n",
    "\n",
    "check_gradient(loss, l.W, l.dLdW)"
   ]
  },
  {
   "cell_type": "markdown",
   "metadata": {},
   "source": [
    "### Часть 3: Сигмоида"
   ]
  },
  {
   "cell_type": "code",
   "execution_count": 54,
   "metadata": {},
   "outputs": [],
   "source": [
    "class Sigmoid:\n",
    "    def __init__(self):\n",
    "        pass\n",
    "    \n",
    "    def forward(self, X):\n",
    "        '''\n",
    "        Passes objects through this layer.\n",
    "        X is np.array of size (N, d)\n",
    "        \n",
    "        y = sigmoid(W.T * x - b)\n",
    "        '''\n",
    "        \n",
    "        self.X = X\n",
    "        self.Y = 1. / (1 + np.exp(-self.X))\n",
    "        return self.Y\n",
    "\n",
    "    \n",
    "    def backward(self, dLdy):\n",
    "        '''\n",
    "        1. Compute dLdx.\n",
    "        2. Return dLdx\n",
    "        '''\n",
    "        \n",
    "        return self.Y * (1 - self.Y) * dLdy\n",
    "    \n",
    "    def step(self, learning_rate):\n",
    "        pass"
   ]
  },
  {
   "cell_type": "markdown",
   "metadata": {},
   "source": [
    "Протестируйте слой при помощи реализованной функции check_gradient: $\\frac{\\partial L}{\\partial x}$."
   ]
  },
  {
   "cell_type": "code",
   "execution_count": 55,
   "metadata": {},
   "outputs": [
    {
     "data": {
      "text/plain": [
       "0.24999517257477044"
      ]
     },
     "execution_count": 55,
     "metadata": {},
     "output_type": "execute_result"
    }
   ],
   "source": [
    "np.random.seed(777)\n",
    "\n",
    "sigm = Sigmoid()\n",
    "\n",
    "X = np.random.randn(100, 1)\n",
    "\n",
    "def func(X):\n",
    "    return sigm.forward(X).flatten()[0]\n",
    "\n",
    "Y = sigm.forward(X)\n",
    "dLdx = sigm.backward(np.ones_like(Y))\n",
    "\n",
    "check_gradient(func, X, dLdx)"
   ]
  },
  {
   "cell_type": "markdown",
   "metadata": {},
   "source": [
    "### Часть 4: Функция потерь"
   ]
  },
  {
   "cell_type": "markdown",
   "metadata": {},
   "source": [
    "Как мы увидели на семинаре, вычисление производной для связки SoftMax + Negative log-likelihood проще чем для этих двух слоев по отдельности. Поэтому мы реализуем их как один класс. Важное замечание: на проходе \"вперед\" важно воспользоваться трюком <a href=\"https://blog.feedly.com/tricks-of-the-trade-logsumexp/\">log-sum-exp</a>, чтобы не столкнуться с численными неустойчивостями."
   ]
  },
  {
   "cell_type": "code",
   "execution_count": 56,
   "metadata": {},
   "outputs": [
    {
     "ename": "IndentationError",
     "evalue": "unexpected indent (<ipython-input-56-1c01eb5d55db>, line 6)",
     "output_type": "error",
     "traceback": [
      "\u001b[0;36m  File \u001b[0;32m\"<ipython-input-56-1c01eb5d55db>\"\u001b[0;36m, line \u001b[0;32m6\u001b[0m\n\u001b[0;31m    '''\u001b[0m\n\u001b[0m    ^\u001b[0m\n\u001b[0;31mIndentationError\u001b[0m\u001b[0;31m:\u001b[0m unexpected indent\n"
     ]
    }
   ],
   "source": [
    "   \n",
    "    '''def forward(self, X, y):\n",
    "        '''\n",
    "        #Passes objects through this layer.\n",
    "        #X is np.array of size (N, C), where C is the number of classes\n",
    "        #y is np.array of size (N), contains correct labels\n",
    "        '''\n",
    "        \n",
    "        self.p = np.exp(X)\n",
    "        self.p /= self.p.sum(1, keepdims=True)\n",
    "        self.y = np.zeros((X.shape[0], X.shape[1]))\n",
    "        self.y[np.arange(X.shape[0]), y] = 1\n",
    "        return -(np.log(self.p)*self.y).sum(1).mean(0)\n",
    "    \n",
    "    def backward(self):\n",
    "        '''\n",
    "        #Note that here dLdy = 1 since L = y\n",
    "        #1. Compute dLdx\n",
    "        #2. Return dLdx\n",
    "        '''\n",
    "        return (self.p - self.y) / self.y.shape[0]\n",
    "    '''"
   ]
  },
  {
   "cell_type": "code",
   "execution_count": 57,
   "metadata": {},
   "outputs": [],
   "source": [
    "class NLLLoss:\n",
    "    def __init__(self):\n",
    "        pass\n",
    "    \n",
    "    def forward(self, X, y):\n",
    "        '''\n",
    "        Passes objects through this layer.\n",
    "        X is np.array of size (N, C), where C is the number of classes\n",
    "        y is np.array of size (N), contains correct labels\n",
    "        '''\n",
    "        self.X = np.copy(X)\n",
    "        self.y = y\n",
    "        nll = 0\n",
    "        for i in range(y.size):\n",
    "            c = np.max(self.X[i])\n",
    "            nll -= self.X[i, y[i]] - np.log(np.exp(X[i] - c).sum()) - c\n",
    "        return nll\n",
    "        \n",
    "    def backward(self):\n",
    "        '''\n",
    "        Note that here dLdy = 1 since L = y\n",
    "        1. Compute dLdx\n",
    "        2. Return dLdx\n",
    "        '''\n",
    "        dLdx = np.zeros_like(self.X)\n",
    "        for i in range(self.X.shape[0]):\n",
    "            c = np.max(self.X[i])\n",
    "            exp_sum = np.log(np.exp(self.X[i] - c).sum()) + c\n",
    "            exp_sum = np.exp(exp_sum)\n",
    "            for j in range(self.X.shape[1]):\n",
    "                dLdx[i, j] += np.exp(self.X[i, j]) / exp_sum\n",
    "                if j == self.y[i]:\n",
    "                    dLdx[i, j] -= 1\n",
    "        return dLdx"
   ]
  },
  {
   "cell_type": "markdown",
   "metadata": {},
   "source": [
    "Протестируйте слой при помощи реализованной функции check_gradient: $\\frac{\\partial L}{\\partial x}$."
   ]
  },
  {
   "cell_type": "code",
   "execution_count": 58,
   "metadata": {},
   "outputs": [
    {
     "data": {
      "text/plain": [
       "1.5701645655549767e-08"
      ]
     },
     "execution_count": 58,
     "metadata": {},
     "output_type": "execute_result"
    }
   ],
   "source": [
    "np.random.seed(1000)\n",
    "\n",
    "nll = NLLLoss()\n",
    "X = np.random.randn(10, 10)\n",
    "y = np.random.randint(0, high=9, size=10)\n",
    "\n",
    "def func(X, y=y):\n",
    "    result = nll.forward(X, y)\n",
    "    return result\n",
    "\n",
    "forwarded = nll.forward(X, y)\n",
    "backwarded = nll.backward()\n",
    "check_gradient(func, X, backwarded)"
   ]
  },
  {
   "cell_type": "markdown",
   "metadata": {},
   "source": [
    "### Часть 5, нейронная сеть"
   ]
  },
  {
   "cell_type": "markdown",
   "metadata": {},
   "source": [
    "Теперь, когда у нас есть \"кирпичики\", мы можем написать класс, который будет собирать всю сеть вместе "
   ]
  },
  {
   "cell_type": "code",
   "execution_count": 59,
   "metadata": {},
   "outputs": [],
   "source": [
    "class NeuralNetwork:\n",
    "    def __init__(self, modules):\n",
    "        '''\n",
    "        Constructs network with *modules* as its layers\n",
    "        '''\n",
    "        self.modules = modules\n",
    "        \n",
    "        \n",
    "    def forward(self, X):\n",
    "        res = X\n",
    "        for module in self.modules:\n",
    "            res = module.forward(res)\n",
    "        return res\n",
    "    \n",
    "    \n",
    "    def backward(self, dLdy):\n",
    "        '''\n",
    "        dLdy here is a gradient from loss function\n",
    "        '''\n",
    "        res = dLdy\n",
    "        for i in range(len(self.modules))[::-1]:\n",
    "            res = self.modules[i].backward(res)\n",
    "    \n",
    "    \n",
    "    def step(self, learning_rate):\n",
    "        for i in range(len(self.modules)):\n",
    "            self.modules[i].step(learning_rate)"
   ]
  },
  {
   "cell_type": "markdown",
   "metadata": {},
   "source": [
    "### Часть 6, обучение на простых данных"
   ]
  },
  {
   "cell_type": "code",
   "execution_count": 69,
   "metadata": {},
   "outputs": [
    {
     "data": {
      "image/png": "[encoded data removed]",
      "text/plain": [
       "<Figure size 432x288 with 1 Axes>"
      ]
     },
     "metadata": {
      "needs_background": "light"
     },
     "output_type": "display_data"
    }
   ],
   "source": [
    "data = np.load('data.npz')\n",
    "X, y = data['arr_0'], data['arr_1']\n",
    "plt.scatter(X[:, 0], X[:, 1], c=y)\n",
    "plt.axis('equal')\n",
    "plt.show()"
   ]
  },
  {
   "cell_type": "markdown",
   "metadata": {},
   "source": [
    "Обучите архитектуру вида 2 -> 10 -> 10 -> 3:\n",
    "* Linear(2, 10)\n",
    "* Sigmoid()\n",
    "* Linear(10, 10)\n",
    "* Sigmoid()\n",
    "* Linear(10, 3)\n",
    "\n",
    "В качестве функции потерь используйте NLLLoss.\n",
    "1. Создайте сеть, в цикле запускайте forward, backward, step (используйте learning rate 0.005). \n",
    "2. Нарисуйте график сходимости (величина NLL после каждого обновления).\n",
    "3. Нарисуйте разделяющую поверхность\n",
    "4. Попробуйте подобрать темп обучения. Как меняется сходимость?"
   ]
  },
  {
   "cell_type": "markdown",
   "metadata": {},
   "source": [
    "Отличная визуализация: http://playground.tensorflow.org/"
   ]
  },
  {
   "cell_type": "markdown",
   "metadata": {},
   "source": [
    "## Домашнее задание:"
   ]
  },
  {
   "cell_type": "markdown",
   "metadata": {},
   "source": [
    "* Подоберите темп обучения. Как меняется сходимость? Нарисуйте график оптимального значения функции потерь для различных значений learning_rate\n",
    "* Решите поставленную выше задачу как задачу регрессии с MSE. Изменилась ли разделяющая поверхность?"
   ]
  },
  {
   "cell_type": "markdown",
   "metadata": {},
   "source": [
    "1. Создаем нейронную сеть, запускаем прозод 1000 раз, выводим график зависимости loss от числа совершенных проходов по нейросети"
   ]
  },
  {
   "cell_type": "code",
   "execution_count": 70,
   "metadata": {},
   "outputs": [
    {
     "name": "stdout",
     "output_type": "stream",
     "text": [
      "loss: 0.7811998685670778\n"
     ]
    },
    {
     "data": {
      "image/png": "[encoded data removed]",
      "text/plain": [
       "<Figure size 432x288 with 1 Axes>"
      ]
     },
     "metadata": {
      "needs_background": "light"
     },
     "output_type": "display_data"
    }
   ],
   "source": [
    "modules = [Linear(2, 10), Sigmoid(), Linear(10, 10), Sigmoid(), Linear(10, 3)]\n",
    "network = NeuralNetwork(modules)\n",
    "nll = NLLLoss()\n",
    "nlls = []\n",
    "for i in range(1000):\n",
    "    res = network.forward(X)\n",
    "    nlls.append(nll.forward(res, y))\n",
    "    dLdy = nll.backward()\n",
    "    network.backward(dLdy)\n",
    "    network.step(0.005)\n",
    "print('loss:', nlls[-1])\n",
    "plt.plot(np.arange(1000), nlls)\n",
    "plt.show()"
   ]
  },
  {
   "cell_type": "markdown",
   "metadata": {},
   "source": [
    "2. Строим поверхность с разделением на зоны классов:"
   ]
  },
  {
   "cell_type": "code",
   "execution_count": 71,
   "metadata": {
    "scrolled": true
   },
   "outputs": [
    {
     "data": {
      "image/png": "[encoded data removed]",
      "text/plain": [
       "<Figure size 432x288 with 1 Axes>"
      ]
     },
     "metadata": {
      "needs_background": "light"
     },
     "output_type": "display_data"
    }
   ],
   "source": [
    "x_lin = np.linspace(-0.5, 1.5, dx)\n",
    "y_lin = np.linspace(-0.5, 1.5, dy)\n",
    "x_ans, y_ans = np.meshgrid(x_lin, y_lin)\n",
    "\n",
    "ans = np.zeros((99, 99))\n",
    "values = []\n",
    "\n",
    "for i in range(99):\n",
    "    for j in range(99):\n",
    "        for k in range(i, i+2):\n",
    "            for cnt in range(j, j+2):\n",
    "                res = network.forward(np.array([[x_ans[k, cnt], y_ans[k, cnt]]]))\n",
    "                values.append(np.argmax(res))\n",
    "        ans[i, j] = np.argmax(np.bincount(np.array(values)))\n",
    "        values = []\n",
    "plt.pcolormesh(x_ans, y_ans, ans)\n",
    "plt.show()"
   ]
  },
  {
   "cell_type": "markdown",
   "metadata": {},
   "source": [
    "3. Подбираем оптимальный темп обучения нейросети:"
   ]
  },
  {
   "cell_type": "code",
   "execution_count": 63,
   "metadata": {
    "scrolled": true
   },
   "outputs": [
    {
     "name": "stderr",
     "output_type": "stream",
     "text": [
      "/home/alex-linux/miniconda3/envs/sphere/lib/python3.7/site-packages/ipykernel_launcher.py:14: RuntimeWarning: overflow encountered in exp\n",
      "  \n",
      "/home/alex-linux/miniconda3/envs/sphere/lib/python3.7/site-packages/ipykernel_launcher.py:14: RuntimeWarning: overflow encountered in exp\n",
      "  \n"
     ]
    },
    {
     "data": {
      "image/png": "[encoded data removed]",
      "text/plain": [
       "<Figure size 432x288 with 1 Axes>"
      ]
     },
     "metadata": {
      "needs_background": "light"
     },
     "output_type": "display_data"
    }
   ],
   "source": [
    "def get_loss_graph(net, nll, nlls, max_epoch, learning_rate):\n",
    "    for i in range(max_epoch):\n",
    "        nlls.append(nll.forward(net.forward(X), y))\n",
    "        net.backward(nll.backward())\n",
    "        net.step(learning_rate)\n",
    "        \n",
    "    graph, = plt.plot(np.arange(max_epoch), nlls)\n",
    "    graph.set_label(f'{learning_rate}')\n",
    "    return graph\n",
    "\n",
    "\n",
    "graphs, options = [], []\n",
    "learning_rates = [0.001, 0.01, 0.05, 0.1, 0.25, 0.5, 1.0]\n",
    "\n",
    "for learning_rate in learning_rates:\n",
    "    network = NeuralNetwork([Linear(2, 10), Sigmoid(), Linear(10, 10), Sigmoid(), Linear(10, 3)])\n",
    "    nll = NLLLoss()\n",
    "    nlls = []\n",
    "    graphs.append(get_loss_graph(network, nll, nlls, 1000, learning_rate))\n",
    "    options.append(nlls[-1])\n",
    "\n",
    "plt.legend(handles=graphs)\n",
    "plt.xlim(0, 1000)\n",
    "plt.ylim(0, 100)\n",
    "plt.show()"
   ]
  },
  {
   "cell_type": "markdown",
   "metadata": {},
   "source": [
    "график loss за 1000 проходов в зависимости от темпа обучения"
   ]
  },
  {
   "cell_type": "code",
   "execution_count": 64,
   "metadata": {},
   "outputs": [
    {
     "data": {
      "text/plain": [
       "(0.0, 10.0)"
      ]
     },
     "execution_count": 64,
     "metadata": {},
     "output_type": "execute_result"
    },
    {
     "data": {
      "image/png": "[encoded data removed]",
      "text/plain": [
       "<Figure size 432x288 with 1 Axes>"
      ]
     },
     "metadata": {
      "needs_background": "light"
     },
     "output_type": "display_data"
    }
   ],
   "source": [
    "plt.plot(learning_rates, options)\n",
    "plt.ylim(0, 10)"
   ]
  },
  {
   "cell_type": "markdown",
   "metadata": {},
   "source": [
    "4. Решаем задачу построения разделяющей поверхности как задачу линейной регрессии с MSE. Строим график разделяющей поверхности, которая у нас получилась"
   ]
  },
  {
   "cell_type": "code",
   "execution_count": 65,
   "metadata": {},
   "outputs": [
    {
     "data": {
      "image/png": "[encoded data removed]",
      "text/plain": [
       "<Figure size 432x288 with 1 Axes>"
      ]
     },
     "metadata": {
      "needs_background": "light"
     },
     "output_type": "display_data"
    }
   ],
   "source": [
    "from sklearn.linear_model import LinearRegression\n",
    "\n",
    "def my_round(f):\n",
    "    if round(f) > 2:\n",
    "        return 2\n",
    "    if round(f) < 0:\n",
    "        return 0\n",
    "    return int(round(f))\n",
    "\n",
    "lin_reg = LinearRegression()\n",
    "lin_reg.fit(X, y)\n",
    "\n",
    "values = []\n",
    "ans = np.zeros((99, 99))\n",
    "\n",
    "x_lin = np.linspace(-0.5, 1.5, 100)\n",
    "y_lin = np.linspace(-0.5, 1.5, 100)\n",
    "x_ans, y_ans = np.meshgrid(x_lin, y_lin)\n",
    "\n",
    "for i in range(99):\n",
    "    for j in range(99):\n",
    "        for k in range(i, i+2):\n",
    "            for cnt in range(j, j+2):\n",
    "                tmp = my_round(lin_reg.predict(np.array([[x_ans[k, cnt], y_ans[k, cnt]]]))[0])\n",
    "                values.append(tmp)\n",
    "        ans[i, j] = np.argmax(np.bincount(np.array(values)))\n",
    "        values = []\n",
    "\n",
    "plt.pcolormesh(x_ans, y_ans, ans)\n",
    "plt.show()"
   ]
  },
  {
   "cell_type": "code",
   "execution_count": null,
   "metadata": {},
   "outputs": [],
   "source": []
  },
  {
   "cell_type": "code",
   "execution_count": null,
   "metadata": {},
   "outputs": [],
   "source": []
  }
 ],
 "metadata": {
  "kernelspec": {
   "display_name": "Python 3",
   "language": "python",
   "name": "python3"
  },
  "language_info": {
   "codemirror_mode": {
    "name": "ipython",
    "version": 3
   },
   "file_extension": ".py",
   "mimetype": "text/x-python",
   "name": "python",
   "nbconvert_exporter": "python",
   "pygments_lexer": "ipython3",
   "version": "3.7.6"
  }
 },
 "nbformat": 4,
 "nbformat_minor": 2
}
